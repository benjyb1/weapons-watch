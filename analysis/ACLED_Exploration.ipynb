{
  "cells": [
    {
      "cell_type": "markdown",
      "metadata": {},
      "source": [
        "# ACLED Event Extraction Notebook\n",
        "\n",
        "This notebook will connect to the ACLED API, fetch global event data, filter for significant events (such as wars, conflicts, political upheavals, economic crises, etc.), group the events by country, then by year and event type, and finally output a nested JSON structure. This structure will be useful for later integration into a defense spending analysis dashboard."
      ]
    },
    {
      "cell_type": "markdown",
      "metadata": {},
      "source": [
        "## Cell 1: Set Up and Fetch ACLED Data\n",
        "\n",
        "In this cell, we'll define our API access details (make sure you replace `YOUR_API_KEY_HERE` and `YOUR_EMAIL_HERE` with your actual ACLED API credentials) and fetch data from the ACLED API. We'll request data in CSV format for a given time span."
      ]
    },
    {
      "cell_type": "code",
      "execution_count": 2,
      "metadata": {},
      "outputs": [
        {
          "name": "stdout",
          "output_type": "stream",
          "text": [
            "Successfully fetched ACLED data!\n",
            "Records fetched: 0\n"
          ]
        },
        {
          "data": {
            "text/html": [
              "<div>\n",
              "<style scoped>\n",
              "    .dataframe tbody tr th:only-of-type {\n",
              "        vertical-align: middle;\n",
              "    }\n",
              "\n",
              "    .dataframe tbody tr th {\n",
              "        vertical-align: top;\n",
              "    }\n",
              "\n",
              "    .dataframe thead th {\n",
              "        text-align: right;\n",
              "    }\n",
              "</style>\n",
              "<table border=\"1\" class=\"dataframe\">\n",
              "  <thead>\n",
              "    <tr style=\"text-align: right;\">\n",
              "      <th></th>\n",
              "      <th>{\"status\":200</th>\n",
              "      <th>success:true</th>\n",
              "      <th>last_update:37</th>\n",
              "      <th>count:500</th>\n",
              "      <th>messages:[]</th>\n",
              "      <th>data:[{\"event_id_cnty\":\"PSE69772\"</th>\n",
              "      <th>event_date:\"2025-02-28\"</th>\n",
              "      <th>year:\"2025\"</th>\n",
              "      <th>time_precision:\"1\"</th>\n",
              "      <th>disorder_type:\"Political violence\"</th>\n",
              "      <th>...</th>\n",
              "      <th>source_scale:\"National\".265</th>\n",
              "      <th>notes:\"On 28 February 2025.462</th>\n",
              "      <th>five people</th>\n",
              "      <th>including four children</th>\n",
              "      <th>were wounded when a mortar shell fired by unidentified armed persons from an unknown direction fell on a house in Sradarga area of Bannu district (Bannu</th>\n",
              "      <th>KPK). 5 injured and no fatalities.\"</th>\n",
              "      <th>fatalities:\"0\".445</th>\n",
              "      <th>tags:\"\".277</th>\n",
              "      <th>timestamp:\"1741112539\"}]</th>\n",
              "      <th>filename:\"2025-03-06\"}</th>\n",
              "    </tr>\n",
              "  </thead>\n",
              "  <tbody>\n",
              "  </tbody>\n",
              "</table>\n",
              "<p>0 rows × 17580 columns</p>\n",
              "</div>"
            ],
            "text/plain": [
              "Empty DataFrame\n",
              "Columns: [{\"status\":200, success:true, last_update:37, count:500, messages:[], data:[{\"event_id_cnty\":\"PSE69772\", event_date:\"2025-02-28\", year:\"2025\", time_precision:\"1\", disorder_type:\"Political violence\", event_type:\"Explosions\\/Remote violence\", sub_event_type:\"Shelling\\/artillery\\/missile attack\", actor1:\"Military Forces of Israel (2022-)\", assoc_actor_1:\"\", inter1:\"External\\/Other forces\", actor2:\"Civilians (Palestine)\", assoc_actor_2:\"Fishers (Palestine)\", inter2:\"Civilians\", interaction:\"External\\/Other forces-Civilians\", civilian_targeting:\"Civilian targeting\", iso:\"275\", region:\"Middle East\", country:\"Palestine\", admin1:\"Gaza Strip\", admin2:\"Gaza City\", admin3:\"\", location:\"Coast of Gaza City\", latitude:\"31.5304\", longitude:\"34.4215\", geo_precision:\"2\", source:\"Palestine News and Information Agency\", source_scale:\"National\", notes:\"On 28 February 2025,  Israeli naval boats opened fire at fishermen off the Coast of Gaza City (Gaza City,  Gaza Strip),  resulting in two injuries. This event occurred during the first stage of a 42-day ceasefire that began on 19 January 2025.\", fatalities:\"0\", tags:\"\", timestamp:\"1741039848\"}, {\"event_id_cnty\":\"PSE69913\", event_date:\"2025-02-28\".1, year:\"2025\".1, time_precision:\"1\".1, disorder_type:\"Strategic developments\", event_type:\"Strategic developments\", sub_event_type:\"Looting\\/property destruction\", actor1:\"Settlers (Israel)\", assoc_actor_1:\"\".1, inter1:\"Political militia\", actor2:\"Civilians (Palestine)\".1, assoc_actor_2:\"\", inter2:\"Civilians\".1, interaction:\"Political militia-Civilians\", civilian_targeting:\"\", iso:\"275\".1, region:\"Middle East\".1, country:\"Palestine\".1, admin1:\"West Bank\", admin2:\"Tubas\", admin3:\"\".1, location:\"Al Farisiya - Khallet Khader\", latitude:\"32.3582\", longitude:\"35.5156\", geo_precision:\"1\", source:\"Palestine News and Information Agency\".1, source_scale:\"National\".1, notes:\"Property destruction: On 28 February 2025,  Israeli settlers demolished,  using bulldozers,  Palestinian-owned tents in Al Farisiya - Khallet Khader (Tubas,  West Bank).\", fatalities:\"0\".1, tags:\"\".1, timestamp:\"1741039849\"}, {\"event_id_cnty\":\"ROU3007\", event_date:\"2025-02-28\".2, year:\"2025\".2, time_precision:\"1\".2, disorder_type:\"Strategic developments\".1, event_type:\"Strategic developments\".1, sub_event_type:\"Other\", actor1:\"Unidentified Military Forces\", assoc_actor_1:\"\".2, inter1:\"External\\/Other forces\".1, actor2:\"\", assoc_actor_2:\"\".1, inter2:\"\", interaction:\"External\\/Other forces only\", civilian_targeting:\"\".1, iso:\"642\", region:\"Europe\", country:\"Romania\", admin1:\"Galati\", admin2:\"Galati\", admin3:\"\".2, location:\"Galati\", latitude:\"45.4500\", longitude:\"28.0500\", geo_precision:\"2\".1, source:\"Digi24; RFE\\/RL; Ziarul de Iasi\", ...]\n",
              "Index: []\n",
              "\n",
              "[0 rows x 17580 columns]"
            ]
          },
          "execution_count": 2,
          "metadata": {},
          "output_type": "execute_result"
        }
      ],
      "source": [
        "import requests\n",
        "import pandas as pd\n",
        "import io\n",
        "\n",
        "# Set your ACLED API credentials\n",
        "ACLED_API_KEY = \"A7l10mr8zXC8d*h5DF0G\"\n",
        "ACLED_EMAIL = \"vn22886@bristol.ac.uk\"\n",
        "\n",
        "# Define the ACLED API endpoint for the 'acled/read' command\n",
        "base_url = \"https://api.acleddata.com/acled/read\"\n",
        "\n",
        "# Define query parameters\n",
        "params = {\n",
        "    \"key\": ACLED_API_KEY,\n",
        "    \"email\": ACLED_EMAIL,\n",
        "    \"limit\": 500,  # adjust limit as needed\n",
        "    \"event_date.gte\": \"2010-01-01\",  # start date\n",
        "    \"event_date.lte\": \"2020-12-31\",  # end date\n",
        "    \"format\": \"csv\"\n",
        "    # You can add further filters if desired\n",
        "}\n",
        "\n",
        "# Make the API request\n",
        "response = requests.get(base_url, params=params)\n",
        "\n",
        "if response.status_code == 200:\n",
        "    print(\"Successfully fetched ACLED data!\")\n",
        "    acled_df = pd.read_csv(io.StringIO(response.text))\n",
        "    print(f\"Records fetched: {len(acled_df)}\")\n",
        "else:\n",
        "    raise Exception(f\"Error fetching ACLED data: {response.status_code}\")\n",
        "\n",
        "# Display the first few rows\n",
        "acled_df.head()"
      ]
    },
    {
      "cell_type": "markdown",
      "metadata": {},
      "source": [
        "## Cell 2: Inspect and Prepare the Data\n",
        "\n",
        "In this cell, we'll inspect the columns and convert the date column to a datetime object. We'll also extract the year for grouping purposes."
      ]
    },
    {
      "cell_type": "code",
      "execution_count": null,
      "metadata": {},
      "outputs": [],
      "source": [
        "# Check the columns and basic info\n",
        "print(acled_df.columns.tolist())\n",
        "acled_df.info()\n",
        "\n",
        "# Convert the event_date column to datetime (adjust column name if needed)\n",
        "acled_df['event_date'] = pd.to_datetime(acled_df['event_date'], format='%Y-%m-%d', errors='coerce')\n",
        "\n",
        "# Extract the year into a new column\n",
        "acled_df['Year'] = acled_df['event_date'].dt.year\n",
        "\n",
        "# Display the updated DataFrame\n",
        "acled_df.head()"
      ]
    },
    {
      "cell_type": "markdown",
      "metadata": {},
      "source": [
        "## Cell 3: Filter for Significant Events\n",
        "\n",
        "Now, we want to filter the dataset to include only the events that are most likely to impact defense spending, such as wars, conflicts, political upheavals, or economic crises. Adjust the event types as needed based on the ACLED fields (here we assume there's an `event_type` column)."
      ]
    },
    {
      "cell_type": "code",
      "execution_count": null,
      "metadata": {},
      "outputs": [],
      "source": [
        "# Define a list of significant event types (adjust as needed based on ACLED documentation)\n",
        "significant_event_types = [\"Battle\", \"Explosions/Remote violence\", \"Protests\", \"Riots\"]\n",
        "\n",
        "# Filter the DataFrame for significant events\n",
        "filtered_acled_df = acled_df[acled_df['event_type'].isin(significant_event_types)].copy()\n",
        "\n",
        "print(f\"Number of significant events: {len(filtered_acled_df)}\")\n",
        "filtered_acled_df.head()"
      ]
    },
    {
      "cell_type": "markdown",
      "metadata": {},
      "source": [
        "## Cell 4: Group the Events by Country, Year, and Event Type\n",
        "\n",
        "We will now group the filtered events by country. For each country, we'll group the events by year, and then within each year, group them by event type. This will create a nested dictionary structure."
      ]
    },
    {
      "cell_type": "code",
      "execution_count": null,
      "metadata": {},
      "outputs": [],
      "source": [
        "import json\n",
        "\n",
        "nested_events = {}\n",
        "\n",
        "# Group by country\n",
        "for country, country_group in filtered_acled_df.groupby(\"country\"):\n",
        "    country_dict = {\"Country\": country, \"Time_Series\": []}\n",
        "    \n",
        "    # Group by year within each country\n",
        "    for year, year_group in country_group.groupby(\"Year\"):\n",
        "        year_dict = {\"Year\": year, \"Events\": {}}\n",
        "        \n",
        "        # Group by event type within the year\n",
        "        for event_type, type_group in year_group.groupby(\"event_type\"):\n",
        "            events_list = type_group[[\"event_date\", \"event_type\", \"sub_event_type\", \"notes\"]].to_dict(orient=\"records\")\n",
        "            year_dict[\"Events\"][event_type] = events_list\n",
        "        \n",
        "        country_dict[\"Time_Series\"].append(year_dict)\n",
        "    \n",
        "    nested_events[country] = country_dict\n",
        "\n",
        "# Pretty-print the nested structure\n",
        "print(json.dumps(nested_events, indent=2, default=str))"
      ]
    },
    {
      "cell_type": "markdown",
      "metadata": {},
      "source": [
        "## Cell 5: Save the Nested Data to a JSON File\n",
        "\n",
        "Finally, we'll save the nested event data to a JSON file so it can be used later by our API or for further analysis."
      ]
    },
    {
      "cell_type": "code",
      "execution_count": null,
      "metadata": {},
      "outputs": [],
      "source": [
        "output_filename = \"data/curated_acled_events.json\"\n",
        "with open(output_filename, \"w\") as outfile:\n",
        "    json.dump(nested_events, outfile, indent=2, default=str)\n",
        "\n",
        "print(f\"Nested ACLED event data saved to {output_filename}\")"
      ]
    }
  ],
  "metadata": {
    "kernelspec": {
      "display_name": "Python 3",
      "language": "python",
      "name": "python3"
    },
    "language_info": {
      "name": "python",
      "version": "3.x"
    }
  },
  "nbformat": 4,
  "nbformat_minor": 2
}
