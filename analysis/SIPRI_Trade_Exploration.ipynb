{
 "cells": [
  {
   "cell_type": "markdown",
   "metadata": {},
   "source": [
    "# SIPRI Arms Transfers: Network Visualization\n",
    "\n",
    "This notebook demonstrates how to:\n",
    "1. **Load** the cleaned SIPRI arms transfer dataset.\n",
    "2. **Construct** a directed graph using NetworkX (supplier → recipient).\n",
    "3. **Analyze** basic network properties (e.g., in-degree, out-degree).\n",
    "4. **Visualize** the network using both NetworkX’s built-in drawing and an interactive Plotly force-directed layout."
   ]
  },
  {
   "cell_type": "code",
   "execution_count": 1,
   "metadata": {},
   "outputs": [],
   "source": [
    "import pandas as pd\n",
    "import networkx as nx\n",
    "import math\n",
    "import plotly.express as px\n",
    "import plotly.graph_objects as go\n",
    "\n",
    "# If needed, install packages:\n",
    "# !pip install networkx plotly\n"
   ]
  },
  {
   "cell_type": "markdown",
   "metadata": {},
   "source": [
    "## 1. Load the Cleaned SIPRI Data\n",
    "\n",
    "Replace `cleaned_sipri_data.csv` with the actual filename of your cleaned dataset. Make sure columns like `Supplier ISO`, `Recipient ISO`, `Number delivered`, `SIPRI TIV`, etc., match what’s in your CSV."
   ]
  },
  {
   "cell_type": "code",
   "execution_count": 2,
   "metadata": {},
   "outputs": [
    {
     "name": "stdout",
     "output_type": "stream",
     "text": [
      "Number of rows in dataset: 29519\n"
     ]
    },
    {
     "data": {
      "text/html": [
       "<div>\n",
       "<style scoped>\n",
       "    .dataframe tbody tr th:only-of-type {\n",
       "        vertical-align: middle;\n",
       "    }\n",
       "\n",
       "    .dataframe tbody tr th {\n",
       "        vertical-align: top;\n",
       "    }\n",
       "\n",
       "    .dataframe thead th {\n",
       "        text-align: right;\n",
       "    }\n",
       "</style>\n",
       "<table border=\"1\" class=\"dataframe\">\n",
       "  <thead>\n",
       "    <tr style=\"text-align: right;\">\n",
       "      <th></th>\n",
       "      <th>Recipient</th>\n",
       "      <th>Supplier</th>\n",
       "      <th>Year of order</th>\n",
       "      <th>Uncertainty flag order year</th>\n",
       "      <th>Number ordered</th>\n",
       "      <th>Uncertainty flag number ordered</th>\n",
       "      <th>Weapon designation</th>\n",
       "      <th>Weapon description</th>\n",
       "      <th>Number delivered</th>\n",
       "      <th>Uncertainty flag number delivered</th>\n",
       "      <th>Year(s) of delivery</th>\n",
       "      <th>status</th>\n",
       "      <th>Comments</th>\n",
       "      <th>SIPRI TIV per unit</th>\n",
       "      <th>SIPRI TIV for total order</th>\n",
       "      <th>SIPRI TIV of delivered weapons</th>\n",
       "      <th>Recipient ISO</th>\n",
       "      <th>Supplier ISO</th>\n",
       "      <th>Delivery Year Numeric</th>\n",
       "      <th>Median Year of Delivery</th>\n",
       "    </tr>\n",
       "  </thead>\n",
       "  <tbody>\n",
       "    <tr>\n",
       "      <th>0</th>\n",
       "      <td>Afghanistan</td>\n",
       "      <td>Brazil</td>\n",
       "      <td>2017.0</td>\n",
       "      <td>0.0</td>\n",
       "      <td>6.0</td>\n",
       "      <td>0</td>\n",
       "      <td>EMB-314 Super Tucano</td>\n",
       "      <td>trainer/combat aircraft</td>\n",
       "      <td>6.0</td>\n",
       "      <td>0</td>\n",
       "      <td>2018</td>\n",
       "      <td>New</td>\n",
       "      <td>A-29B version; financed by USA; ordered via US...</td>\n",
       "      <td>4.50</td>\n",
       "      <td>27.0</td>\n",
       "      <td>27.0</td>\n",
       "      <td>AFG</td>\n",
       "      <td>BRA</td>\n",
       "      <td>2018.0</td>\n",
       "      <td>1988</td>\n",
       "    </tr>\n",
       "    <tr>\n",
       "      <th>1</th>\n",
       "      <td>Afghanistan</td>\n",
       "      <td>Soviet Union</td>\n",
       "      <td>1987.0</td>\n",
       "      <td>1.0</td>\n",
       "      <td>3.0</td>\n",
       "      <td>0</td>\n",
       "      <td>An-26</td>\n",
       "      <td>transport aircraft</td>\n",
       "      <td>3.0</td>\n",
       "      <td>0</td>\n",
       "      <td>1987</td>\n",
       "      <td>New</td>\n",
       "      <td>NaN</td>\n",
       "      <td>8.50</td>\n",
       "      <td>25.5</td>\n",
       "      <td>25.5</td>\n",
       "      <td>AFG</td>\n",
       "      <td>NaN</td>\n",
       "      <td>1987.0</td>\n",
       "      <td>1988</td>\n",
       "    </tr>\n",
       "    <tr>\n",
       "      <th>2</th>\n",
       "      <td>Afghanistan</td>\n",
       "      <td>Soviet Union</td>\n",
       "      <td>1988.0</td>\n",
       "      <td>1.0</td>\n",
       "      <td>40.0</td>\n",
       "      <td>1</td>\n",
       "      <td>2S9 120mm</td>\n",
       "      <td>self-propelled gun</td>\n",
       "      <td>40.0</td>\n",
       "      <td>0</td>\n",
       "      <td>1988</td>\n",
       "      <td>Second hand</td>\n",
       "      <td>Second-hand; aid; handed over by Soviet forces...</td>\n",
       "      <td>0.30</td>\n",
       "      <td>12.0</td>\n",
       "      <td>12.0</td>\n",
       "      <td>AFG</td>\n",
       "      <td>NaN</td>\n",
       "      <td>1988.0</td>\n",
       "      <td>1988</td>\n",
       "    </tr>\n",
       "    <tr>\n",
       "      <th>3</th>\n",
       "      <td>Afghanistan</td>\n",
       "      <td>Soviet Union</td>\n",
       "      <td>1979.0</td>\n",
       "      <td>1.0</td>\n",
       "      <td>6000.0</td>\n",
       "      <td>1</td>\n",
       "      <td>Malyutka</td>\n",
       "      <td>anti-tank missile</td>\n",
       "      <td>6000.0</td>\n",
       "      <td>0</td>\n",
       "      <td>1979; 1980; 1981; 1982; 1983; 1984; 1985; 1986...</td>\n",
       "      <td>New</td>\n",
       "      <td>Incl for Mi-24 helicopters and BMP-1 IFV</td>\n",
       "      <td>0.01</td>\n",
       "      <td>60.0</td>\n",
       "      <td>60.0</td>\n",
       "      <td>AFG</td>\n",
       "      <td>NaN</td>\n",
       "      <td>1979.0</td>\n",
       "      <td>1988</td>\n",
       "    </tr>\n",
       "    <tr>\n",
       "      <th>4</th>\n",
       "      <td>Afghanistan</td>\n",
       "      <td>Soviet Union</td>\n",
       "      <td>1988.0</td>\n",
       "      <td>1.0</td>\n",
       "      <td>13.0</td>\n",
       "      <td>1</td>\n",
       "      <td>9P113</td>\n",
       "      <td>surface-to-surface missile launcher</td>\n",
       "      <td>13.0</td>\n",
       "      <td>0</td>\n",
       "      <td>1988</td>\n",
       "      <td>Second hand</td>\n",
       "      <td>Second-hand</td>\n",
       "      <td>0.20</td>\n",
       "      <td>2.6</td>\n",
       "      <td>2.6</td>\n",
       "      <td>AFG</td>\n",
       "      <td>NaN</td>\n",
       "      <td>1988.0</td>\n",
       "      <td>1988</td>\n",
       "    </tr>\n",
       "  </tbody>\n",
       "</table>\n",
       "</div>"
      ],
      "text/plain": [
       "     Recipient      Supplier  Year of order   Uncertainty flag order year  \\\n",
       "0  Afghanistan        Brazil         2017.0                           0.0   \n",
       "1  Afghanistan  Soviet Union         1987.0                           1.0   \n",
       "2  Afghanistan  Soviet Union         1988.0                           1.0   \n",
       "3  Afghanistan  Soviet Union         1979.0                           1.0   \n",
       "4  Afghanistan  Soviet Union         1988.0                           1.0   \n",
       "\n",
       "   Number ordered   Uncertainty flag number ordered    Weapon designation  \\\n",
       "0             6.0                                 0  EMB-314 Super Tucano   \n",
       "1             3.0                                 0                 An-26   \n",
       "2            40.0                                 1             2S9 120mm   \n",
       "3          6000.0                                 1              Malyutka   \n",
       "4            13.0                                 1                 9P113   \n",
       "\n",
       "                    Weapon description  Number delivered  \\\n",
       "0              trainer/combat aircraft               6.0   \n",
       "1                   transport aircraft               3.0   \n",
       "2                   self-propelled gun              40.0   \n",
       "3                    anti-tank missile            6000.0   \n",
       "4  surface-to-surface missile launcher              13.0   \n",
       "\n",
       "    Uncertainty flag number delivered  \\\n",
       "0                                   0   \n",
       "1                                   0   \n",
       "2                                   0   \n",
       "3                                   0   \n",
       "4                                   0   \n",
       "\n",
       "                                 Year(s) of delivery       status  \\\n",
       "0                                               2018          New   \n",
       "1                                               1987          New   \n",
       "2                                               1988  Second hand   \n",
       "3  1979; 1980; 1981; 1982; 1983; 1984; 1985; 1986...          New   \n",
       "4                                               1988  Second hand   \n",
       "\n",
       "                                            Comments  SIPRI TIV per unit  \\\n",
       "0  A-29B version; financed by USA; ordered via US...                4.50   \n",
       "1                                                NaN                8.50   \n",
       "2  Second-hand; aid; handed over by Soviet forces...                0.30   \n",
       "3           Incl for Mi-24 helicopters and BMP-1 IFV                0.01   \n",
       "4                                        Second-hand                0.20   \n",
       "\n",
       "   SIPRI TIV for total order  SIPRI TIV of delivered weapons Recipient ISO  \\\n",
       "0                       27.0                            27.0           AFG   \n",
       "1                       25.5                            25.5           AFG   \n",
       "2                       12.0                            12.0           AFG   \n",
       "3                       60.0                            60.0           AFG   \n",
       "4                        2.6                             2.6           AFG   \n",
       "\n",
       "  Supplier ISO  Delivery Year Numeric  Median Year of Delivery  \n",
       "0          BRA                 2018.0                     1988  \n",
       "1          NaN                 1987.0                     1988  \n",
       "2          NaN                 1988.0                     1988  \n",
       "3          NaN                 1979.0                     1988  \n",
       "4          NaN                 1988.0                     1988  "
      ]
     },
     "execution_count": 2,
     "metadata": {},
     "output_type": "execute_result"
    }
   ],
   "source": [
    "# Load the dataset\n",
    "df = pd.read_csv('../data/sipri_trade_data_tidy.csv')\n",
    "print(\"Number of rows in dataset:\", len(df))\n",
    "df.head()"
   ]
  },
  {
   "cell_type": "markdown",
   "metadata": {},
   "source": [
    "## 2. Construct a Directed Graph\n",
    "\n",
    "We’ll create a directed graph (`DiGraph`) where each node is a country (identified by its ISO code), and each edge represents an arms transfer from `Supplier ISO` to `Recipient ISO`. We’ll use the `Number delivered` (or `SIPRI TIV`) as the weight of the edge."
   ]
  },
  {
   "cell_type": "code",
   "execution_count": 3,
   "metadata": {},
   "outputs": [
    {
     "name": "stdout",
     "output_type": "stream",
     "text": [
      "Number of nodes: 173\n",
      "Number of edges: 2342\n"
     ]
    }
   ],
   "source": [
    "# Create a directed graph\n",
    "G = nx.DiGraph()\n",
    "\n",
    "# Iterate over rows to add edges\n",
    "# Adjust column names if needed\n",
    "for idx, row in df.iterrows():\n",
    "    supplier = row['Supplier ISO']\n",
    "    recipient = row['Recipient ISO']\n",
    "    if pd.isna(supplier) or pd.isna(recipient):\n",
    "        continue  # skip rows with missing ISO codes\n",
    "    \n",
    "    # Use number delivered as the weight (or sipri_tiv)\n",
    "    weight = row.get('Number delivered', 1)\n",
    "    if pd.isna(weight):\n",
    "        weight = 1\n",
    "\n",
    "    # Add edge to the graph\n",
    "    if G.has_edge(supplier, recipient):\n",
    "        # If edge already exists, accumulate the weight\n",
    "        G[supplier][recipient]['weight'] += weight\n",
    "    else:\n",
    "        G.add_edge(supplier, recipient, weight=weight)\n",
    "\n",
    "print(\"Number of nodes:\", G.number_of_nodes())\n",
    "print(\"Number of edges:\", G.number_of_edges())"
   ]
  },
  {
   "cell_type": "markdown",
   "metadata": {},
   "source": [
    "## 3. Basic Network Analysis\n",
    "\n",
    "We can compute simple statistics, such as the in-degree and out-degree of each node (how many countries each node imports from vs. exports to)."
   ]
  },
  {
   "cell_type": "code",
   "execution_count": 4,
   "metadata": {},
   "outputs": [
    {
     "name": "stdout",
     "output_type": "stream",
     "text": [
      "Top 10 Importers (by total deliveries):\n",
      "      ISO  InDegree  OutDegree\n",
      "107  SAU  167050.0      184.0\n",
      "10   UKR  135397.0    22230.0\n",
      "16   DEU  120648.0   166008.0\n",
      "11   GBR  118688.0   113372.0\n",
      "3    USA  109707.0  1201885.0\n",
      "13   ITA  103925.0    21059.0\n",
      "36   ISR   91193.0    64695.0\n",
      "6    IND   89423.0      860.0\n",
      "62   IRN   84927.0     1331.0\n",
      "52   PAK   82609.0     1197.0\n",
      "\n",
      "Top 10 Exporters (by total deliveries):\n",
      "     ISO  InDegree  OutDegree\n",
      "3   USA  109707.0  1201885.0\n",
      "15  FRA   22375.0   368269.0\n",
      "16  DEU  120648.0   166008.0\n",
      "11  GBR  118688.0   113372.0\n",
      "4   CHN   17179.0    99520.0\n",
      "36  ISR   91193.0    64695.0\n",
      "19  SWE   24036.0    35126.0\n",
      "10  UKR  135397.0    22230.0\n",
      "13  ITA  103925.0    21059.0\n",
      "2   CAN   41809.0    19310.0\n"
     ]
    }
   ],
   "source": [
    "# Compute in-degree and out-degree\n",
    "in_degs = dict(G.in_degree(weight='weight'))   # Weighted in-degree\n",
    "out_degs = dict(G.out_degree(weight='weight')) # Weighted out-degree\n",
    "\n",
    "# Convert to DataFrame for easier inspection\n",
    "degree_df = pd.DataFrame({\n",
    "    'ISO': list(in_degs.keys()),\n",
    "    'InDegree': [in_degs[n] for n in in_degs.keys()],\n",
    "    'OutDegree': [out_degs[n] for n in out_degs.keys()]\n",
    "})\n",
    "\n",
    "# Sort by highest InDegree (top importers)\n",
    "top_importers = degree_df.sort_values('InDegree', ascending=False).head(10)\n",
    "# Sort by highest OutDegree (top exporters)\n",
    "top_exporters = degree_df.sort_values('OutDegree', ascending=False).head(10)\n",
    "\n",
    "print(\"Top 10 Importers (by total deliveries):\\n\", top_importers)\n",
    "print(\"\\nTop 10 Exporters (by total deliveries):\\n\", top_exporters)"
   ]
  },
  {
   "cell_type": "markdown",
   "metadata": {},
   "source": [
    "## 4. Simple Network Visualization with NetworkX\n",
    "\n",
    "NetworkX’s built-in `draw` methods are good for quick looks, but they may struggle with large networks. If your network is huge, consider subsetting or using an interactive library like Plotly or D3.js."
   ]
  },
  {
   "cell_type": "code",
   "execution_count": 5,
   "metadata": {
    "tags": []
   },
   "outputs": [
    {
     "data": {
      "image/png": "[encoded data removed]",
      "text/plain": [
       "<Figure size 800x600 with 1 Axes>"
      ]
     },
     "metadata": {},
     "output_type": "display_data"
    }
   ],
   "source": [
    "import matplotlib.pyplot as plt\n",
    "\n",
    "# For demonstration, create a subgraph of top exporters/importers to keep it small.\n",
    "top_nodes = set(top_importers['ISO']).union(set(top_exporters['ISO']))\n",
    "subG = G.subgraph(top_nodes)\n",
    "\n",
    "# Draw the subgraph with spring layout\n",
    "plt.figure(figsize=(8, 6))\n",
    "pos = nx.spring_layout(subG, k=0.35, seed=42)\n",
    "nx.draw_networkx_nodes(subG, pos, node_size=700, node_color='lightblue')\n",
    "nx.draw_networkx_labels(subG, pos)\n",
    "nx.draw_networkx_edges(subG, pos, arrows=True, arrowstyle='->')\n",
    "\n",
    "plt.title(\"Subgraph of Top 10 Importers/Exporters\")\n",
    "plt.axis('off')\n",
    "plt.show()"
   ]
  },
  {
   "cell_type": "markdown",
   "metadata": {},
   "source": [
    "## 5. Interactive Force-Directed Graph with Plotly\n",
    "\n",
    "Plotly can create interactive visualizations in a Jupyter environment. We'll convert our graph to a format Plotly can understand and draw a force-directed layout. This is more advanced, but it’s great for exploring networks."
   ]
  },
  {
   "cell_type": "code",
   "execution_count": 6,
   "metadata": {},
   "outputs": [
    {
     "data": {
      "application/vnd.plotly.v1+json": {
       "config": {
        "plotlyServerURL": "https://plot.ly"
       },
       "data": [
        {
         "hoverinfo": "none",
         "line": {
          "color": "#888",
          "width": 1
         },
         "mode": "lines",
         "type": "scatter",
         "x": [
          -0.4541718578375747,
          -0.43449019429949604,
          null,
          -0.4541718578375747,
          -0.4557698680553526,
          null,
          0.15163933083498443,
          -0.11140152802765137,
          null,
          0.15163933083498443,
          -0.39354380757619933,
          null,
          0.15163933083498443,
          0.24691313894042527,
          null,
          0.15163933083498443,
          0.31062495766129355,
          null,
          0.15163933083498443,
          1,
          null,
          0.15163933083498443,
          -0.43449019429949604,
          null,
          0.15163933083498443,
          0.2825084899723334,
          null,
          0.15163933083498443,
          -0.01450085924638767,
          null,
          0.15163933083498443,
          -0.4541718578375747,
          null,
          0.15163933083498443,
          -0.4557698680553526,
          null,
          0.15163933083498443,
          -0.036444025135389954,
          null,
          0.15163933083498443,
          -0.03372881830760067,
          null,
          0.15163933083498443,
          -0.05763495892338455,
          null,
          0.24691313894042527,
          -0.11140152802765137,
          null,
          0.24691313894042527,
          -0.39354380757619933,
          null,
          0.24691313894042527,
          0.31062495766129355,
          null,
          0.24691313894042527,
          1,
          null,
          0.24691313894042527,
          -0.43449019429949604,
          null,
          0.24691313894042527,
          0.2825084899723334,
          null,
          0.24691313894042527,
          -0.01450085924638767,
          null,
          0.24691313894042527,
          -0.4541718578375747,
          null,
          0.24691313894042527,
          -0.4557698680553526,
          null,
          0.24691313894042527,
          -0.036444025135389954,
          null,
          0.24691313894042527,
          -0.03372881830760067,
          null,
          0.24691313894042527,
          0.15163933083498443,
          null,
          0.24691313894042527,
          -0.05763495892338455,
          null,
          0.31062495766129355,
          -0.11140152802765137,
          null,
          0.31062495766129355,
          -0.39354380757619933,
          null,
          0.31062495766129355,
          0.24691313894042527,
          null,
          0.31062495766129355,
          1,
          null,
          0.31062495766129355,
          -0.43449019429949604,
          null,
          0.31062495766129355,
          0.2825084899723334,
          null,
          0.31062495766129355,
          -0.01450085924638767,
          null,
          0.31062495766129355,
          -0.4541718578375747,
          null,
          0.31062495766129355,
          -0.4557698680553526,
          null,
          0.31062495766129355,
          -0.036444025135389954,
          null,
          0.31062495766129355,
          -0.03372881830760067,
          null,
          0.31062495766129355,
          0.15163933083498443,
          null,
          0.31062495766129355,
          -0.05763495892338455,
          null,
          -0.43449019429949604,
          -0.4541718578375747,
          null,
          -0.4557698680553526,
          -0.05763495892338455,
          null,
          0.2825084899723334,
          -0.11140152802765137,
          null,
          0.2825084899723334,
          -0.39354380757619933,
          null,
          0.2825084899723334,
          0.24691313894042527,
          null,
          0.2825084899723334,
          0.31062495766129355,
          null,
          0.2825084899723334,
          1,
          null,
          0.2825084899723334,
          -0.43449019429949604,
          null,
          0.2825084899723334,
          -0.01450085924638767,
          null,
          0.2825084899723334,
          -0.036444025135389954,
          null,
          0.2825084899723334,
          0.15163933083498443,
          null,
          0.2825084899723334,
          -0.05763495892338455,
          null,
          -0.39354380757619933,
          -0.43449019429949604,
          null,
          -0.39354380757619933,
          -0.4541718578375747,
          null,
          -0.39354380757619933,
          -0.4557698680553526,
          null,
          -0.11140152802765137,
          -0.39354380757619933,
          null,
          -0.11140152802765137,
          0.24691313894042527,
          null,
          -0.11140152802765137,
          0.31062495766129355,
          null,
          -0.11140152802765137,
          1,
          null,
          -0.11140152802765137,
          -0.43449019429949604,
          null,
          -0.11140152802765137,
          0.2825084899723334,
          null,
          -0.11140152802765137,
          -0.01450085924638767,
          null,
          -0.11140152802765137,
          -0.4541718578375747,
          null,
          -0.11140152802765137,
          -0.4557698680553526,
          null,
          -0.11140152802765137,
          -0.036444025135389954,
          null,
          -0.11140152802765137,
          -0.03372881830760067,
          null,
          -0.11140152802765137,
          0.15163933083498443,
          null,
          -0.11140152802765137,
          -0.05763495892338455,
          null,
          1,
          0.24691313894042527,
          null,
          -0.036444025135389954,
          -0.11140152802765137,
          null,
          -0.036444025135389954,
          0.24691313894042527,
          null,
          -0.036444025135389954,
          0.31062495766129355,
          null,
          -0.036444025135389954,
          1,
          null,
          -0.036444025135389954,
          -0.43449019429949604,
          null,
          -0.036444025135389954,
          0.2825084899723334,
          null,
          -0.036444025135389954,
          -0.01450085924638767,
          null,
          -0.036444025135389954,
          -0.4541718578375747,
          null,
          -0.036444025135389954,
          -0.4557698680553526,
          null,
          -0.036444025135389954,
          -0.03372881830760067,
          null,
          -0.036444025135389954,
          0.15163933083498443,
          null,
          -0.036444025135389954,
          -0.05763495892338455,
          null,
          -0.03372881830760067,
          -0.39354380757619933,
          null,
          -0.03372881830760067,
          1,
          null,
          -0.03372881830760067,
          -0.43449019429949604,
          null,
          -0.03372881830760067,
          -0.4541718578375747,
          null,
          -0.03372881830760067,
          -0.4557698680553526,
          null,
          -0.03372881830760067,
          -0.05763495892338455,
          null,
          -0.05763495892338455,
          -0.11140152802765137,
          null,
          -0.05763495892338455,
          -0.39354380757619933,
          null,
          -0.05763495892338455,
          0.24691313894042527,
          null,
          -0.05763495892338455,
          0.31062495766129355,
          null,
          -0.05763495892338455,
          1,
          null,
          -0.05763495892338455,
          -0.43449019429949604,
          null,
          -0.05763495892338455,
          0.2825084899723334,
          null,
          -0.05763495892338455,
          -0.01450085924638767,
          null,
          -0.05763495892338455,
          -0.4541718578375747,
          null,
          -0.05763495892338455,
          -0.4557698680553526,
          null,
          -0.05763495892338455,
          -0.036444025135389954,
          null,
          -0.05763495892338455,
          -0.03372881830760067,
          null,
          -0.05763495892338455,
          0.15163933083498443,
          null,
          -0.01450085924638767,
          -0.11140152802765137,
          null,
          -0.01450085924638767,
          -0.39354380757619933,
          null,
          -0.01450085924638767,
          0.24691313894042527,
          null,
          -0.01450085924638767,
          0.31062495766129355,
          null,
          -0.01450085924638767,
          1,
          null,
          -0.01450085924638767,
          -0.43449019429949604,
          null,
          -0.01450085924638767,
          0.2825084899723334,
          null,
          -0.01450085924638767,
          -0.4541718578375747,
          null,
          -0.01450085924638767,
          -0.4557698680553526,
          null,
          -0.01450085924638767,
          -0.036444025135389954,
          null,
          -0.01450085924638767,
          -0.03372881830760067,
          null,
          -0.01450085924638767,
          0.15163933083498443,
          null,
          -0.01450085924638767,
          -0.05763495892338455,
          null
         ],
         "y": [
          0.41627879640672033,
          0.6178709621449291,
          null,
          0.41627879640672033,
          0.15859138923378086,
          null,
          -0.1624274977643709,
          0.0022328218993682932,
          null,
          -0.1624274977643709,
          0.560671972481477,
          null,
          -0.1624274977643709,
          -0.2650863160017905,
          null,
          -0.1624274977643709,
          -0.2761438790021484,
          null,
          -0.1624274977643709,
          -0.9538621455810683,
          null,
          -0.1624274977643709,
          0.6178709621449291,
          null,
          -0.1624274977643709,
          -0.21230041083160203,
          null,
          -0.1624274977643709,
          0.021288658838563516,
          null,
          -0.1624274977643709,
          0.41627879640672033,
          null,
          -0.1624274977643709,
          0.15859138923378086,
          null,
          -0.1624274977643709,
          0.03140599325127947,
          null,
          -0.1624274977643709,
          0.024509392668924667,
          null,
          -0.1624274977643709,
          0.03697026225593669,
          null,
          -0.2650863160017905,
          0.0022328218993682932,
          null,
          -0.2650863160017905,
          0.560671972481477,
          null,
          -0.2650863160017905,
          -0.2761438790021484,
          null,
          -0.2650863160017905,
          -0.9538621455810683,
          null,
          -0.2650863160017905,
          0.6178709621449291,
          null,
          -0.2650863160017905,
          -0.21230041083160203,
          null,
          -0.2650863160017905,
          0.021288658838563516,
          null,
          -0.2650863160017905,
          0.41627879640672033,
          null,
          -0.2650863160017905,
          0.15859138923378086,
          null,
          -0.2650863160017905,
          0.03140599325127947,
          null,
          -0.2650863160017905,
          0.024509392668924667,
          null,
          -0.2650863160017905,
          -0.1624274977643709,
          null,
          -0.2650863160017905,
          0.03697026225593669,
          null,
          -0.2761438790021484,
          0.0022328218993682932,
          null,
          -0.2761438790021484,
          0.560671972481477,
          null,
          -0.2761438790021484,
          -0.2650863160017905,
          null,
          -0.2761438790021484,
          -0.9538621455810683,
          null,
          -0.2761438790021484,
          0.6178709621449291,
          null,
          -0.2761438790021484,
          -0.21230041083160203,
          null,
          -0.2761438790021484,
          0.021288658838563516,
          null,
          -0.2761438790021484,
          0.41627879640672033,
          null,
          -0.2761438790021484,
          0.15859138923378086,
          null,
          -0.2761438790021484,
          0.03140599325127947,
          null,
          -0.2761438790021484,
          0.024509392668924667,
          null,
          -0.2761438790021484,
          -0.1624274977643709,
          null,
          -0.2761438790021484,
          0.03697026225593669,
          null,
          0.6178709621449291,
          0.41627879640672033,
          null,
          0.15859138923378086,
          0.03697026225593669,
          null,
          -0.21230041083160203,
          0.0022328218993682932,
          null,
          -0.21230041083160203,
          0.560671972481477,
          null,
          -0.21230041083160203,
          -0.2650863160017905,
          null,
          -0.21230041083160203,
          -0.2761438790021484,
          null,
          -0.21230041083160203,
          -0.9538621455810683,
          null,
          -0.21230041083160203,
          0.6178709621449291,
          null,
          -0.21230041083160203,
          0.021288658838563516,
          null,
          -0.21230041083160203,
          0.03140599325127947,
          null,
          -0.21230041083160203,
          -0.1624274977643709,
          null,
          -0.21230041083160203,
          0.03697026225593669,
          null,
          0.560671972481477,
          0.6178709621449291,
          null,
          0.560671972481477,
          0.41627879640672033,
          null,
          0.560671972481477,
          0.15859138923378086,
          null,
          0.0022328218993682932,
          0.560671972481477,
          null,
          0.0022328218993682932,
          -0.2650863160017905,
          null,
          0.0022328218993682932,
          -0.2761438790021484,
          null,
          0.0022328218993682932,
          -0.9538621455810683,
          null,
          0.0022328218993682932,
          0.6178709621449291,
          null,
          0.0022328218993682932,
          -0.21230041083160203,
          null,
          0.0022328218993682932,
          0.021288658838563516,
          null,
          0.0022328218993682932,
          0.41627879640672033,
          null,
          0.0022328218993682932,
          0.15859138923378086,
          null,
          0.0022328218993682932,
          0.03140599325127947,
          null,
          0.0022328218993682932,
          0.024509392668924667,
          null,
          0.0022328218993682932,
          -0.1624274977643709,
          null,
          0.0022328218993682932,
          0.03697026225593669,
          null,
          -0.9538621455810683,
          -0.2650863160017905,
          null,
          0.03140599325127947,
          0.0022328218993682932,
          null,
          0.03140599325127947,
          -0.2650863160017905,
          null,
          0.03140599325127947,
          -0.2761438790021484,
          null,
          0.03140599325127947,
          -0.9538621455810683,
          null,
          0.03140599325127947,
          0.6178709621449291,
          null,
          0.03140599325127947,
          -0.21230041083160203,
          null,
          0.03140599325127947,
          0.021288658838563516,
          null,
          0.03140599325127947,
          0.41627879640672033,
          null,
          0.03140599325127947,
          0.15859138923378086,
          null,
          0.03140599325127947,
          0.024509392668924667,
          null,
          0.03140599325127947,
          -0.1624274977643709,
          null,
          0.03140599325127947,
          0.03697026225593669,
          null,
          0.024509392668924667,
          0.560671972481477,
          null,
          0.024509392668924667,
          -0.9538621455810683,
          null,
          0.024509392668924667,
          0.6178709621449291,
          null,
          0.024509392668924667,
          0.41627879640672033,
          null,
          0.024509392668924667,
          0.15859138923378086,
          null,
          0.024509392668924667,
          0.03697026225593669,
          null,
          0.03697026225593669,
          0.0022328218993682932,
          null,
          0.03697026225593669,
          0.560671972481477,
          null,
          0.03697026225593669,
          -0.2650863160017905,
          null,
          0.03697026225593669,
          -0.2761438790021484,
          null,
          0.03697026225593669,
          -0.9538621455810683,
          null,
          0.03697026225593669,
          0.6178709621449291,
          null,
          0.03697026225593669,
          -0.21230041083160203,
          null,
          0.03697026225593669,
          0.021288658838563516,
          null,
          0.03697026225593669,
          0.41627879640672033,
          null,
          0.03697026225593669,
          0.15859138923378086,
          null,
          0.03697026225593669,
          0.03140599325127947,
          null,
          0.03697026225593669,
          0.024509392668924667,
          null,
          0.03697026225593669,
          -0.1624274977643709,
          null,
          0.021288658838563516,
          0.0022328218993682932,
          null,
          0.021288658838563516,
          0.560671972481477,
          null,
          0.021288658838563516,
          -0.2650863160017905,
          null,
          0.021288658838563516,
          -0.2761438790021484,
          null,
          0.021288658838563516,
          -0.9538621455810683,
          null,
          0.021288658838563516,
          0.6178709621449291,
          null,
          0.021288658838563516,
          -0.21230041083160203,
          null,
          0.021288658838563516,
          0.41627879640672033,
          null,
          0.021288658838563516,
          0.15859138923378086,
          null,
          0.021288658838563516,
          0.03140599325127947,
          null,
          0.021288658838563516,
          0.024509392668924667,
          null,
          0.021288658838563516,
          -0.1624274977643709,
          null,
          0.021288658838563516,
          0.03697026225593669,
          null
         ]
        },
        {
         "hoverinfo": "text",
         "marker": {
          "color": "lightblue",
          "line": {
           "width": 2
          },
          "showscale": false,
          "size": 15
         },
         "mode": "markers+text",
         "text": [
          "PAK",
          "GBR",
          "FRA",
          "DEU",
          "IRN",
          "SAU",
          "ISR",
          "CHN",
          "CAN",
          "IND",
          "SWE",
          "UKR",
          "USA",
          "ITA"
         ],
         "textposition": "top center",
         "type": "scatter",
         "x": [
          -0.4541718578375747,
          0.15163933083498443,
          0.24691313894042527,
          0.31062495766129355,
          -0.43449019429949604,
          -0.4557698680553526,
          0.2825084899723334,
          -0.39354380757619933,
          -0.11140152802765137,
          1,
          -0.036444025135389954,
          -0.03372881830760067,
          -0.05763495892338455,
          -0.01450085924638767
         ],
         "y": [
          0.41627879640672033,
          -0.1624274977643709,
          -0.2650863160017905,
          -0.2761438790021484,
          0.6178709621449291,
          0.15859138923378086,
          -0.21230041083160203,
          0.560671972481477,
          0.0022328218993682932,
          -0.9538621455810683,
          0.03140599325127947,
          0.024509392668924667,
          0.03697026225593669,
          0.021288658838563516
         ]
        }
       ],
       "layout": {
        "hovermode": "closest",
        "margin": {
         "b": 20,
         "l": 5,
         "r": 5,
         "t": 40
        },
        "showlegend": false,
        "template": {
         "data": {
          "bar": [
           {
            "error_x": {
             "color": "#2a3f5f"
            },
            "error_y": {
             "color": "#2a3f5f"
            },
            "marker": {
             "line": {
              "color": "#E5ECF6",
              "width": 0.5
             },
             "pattern": {
              "fillmode": "overlay",
              "size": 10,
              "solidity": 0.2
             }
            },
            "type": "bar"
           }
          ],
          "barpolar": [
           {
            "marker": {
             "line": {
              "color": "#E5ECF6",
              "width": 0.5
             },
             "pattern": {
              "fillmode": "overlay",
              "size": 10,
              "solidity": 0.2
             }
            },
            "type": "barpolar"
           }
          ],
          "carpet": [
           {
            "aaxis": {
             "endlinecolor": "#2a3f5f",
             "gridcolor": "white",
             "linecolor": "white",
             "minorgridcolor": "white",
             "startlinecolor": "#2a3f5f"
            },
            "baxis": {
             "endlinecolor": "#2a3f5f",
             "gridcolor": "white",
             "linecolor": "white",
             "minorgridcolor": "white",
             "startlinecolor": "#2a3f5f"
            },
            "type": "carpet"
           }
          ],
          "choropleth": [
           {
            "colorbar": {
             "outlinewidth": 0,
             "ticks": ""
            },
            "type": "choropleth"
           }
          ],
          "contour": [
           {
            "colorbar": {
             "outlinewidth": 0,
             "ticks": ""
            },
            "colorscale": [
             [
              0,
              "#0d0887"
             ],
             [
              0.1111111111111111,
              "#46039f"
             ],
             [
              0.2222222222222222,
              "#7201a8"
             ],
             [
              0.3333333333333333,
              "#9c179e"
             ],
             [
              0.4444444444444444,
              "#bd3786"
             ],
             [
              0.5555555555555556,
              "#d8576b"
             ],
             [
              0.6666666666666666,
              "#ed7953"
             ],
             [
              0.7777777777777778,
              "#fb9f3a"
             ],
             [
              0.8888888888888888,
              "#fdca26"
             ],
             [
              1,
              "#f0f921"
             ]
            ],
            "type": "contour"
           }
          ],
          "contourcarpet": [
           {
            "colorbar": {
             "outlinewidth": 0,
             "ticks": ""
            },
            "type": "contourcarpet"
           }
          ],
          "heatmap": [
           {
            "colorbar": {
             "outlinewidth": 0,
             "ticks": ""
            },
            "colorscale": [
             [
              0,
              "#0d0887"
             ],
             [
              0.1111111111111111,
              "#46039f"
             ],
             [
              0.2222222222222222,
              "#7201a8"
             ],
             [
              0.3333333333333333,
              "#9c179e"
             ],
             [
              0.4444444444444444,
              "#bd3786"
             ],
             [
              0.5555555555555556,
              "#d8576b"
             ],
             [
              0.6666666666666666,
              "#ed7953"
             ],
             [
              0.7777777777777778,
              "#fb9f3a"
             ],
             [
              0.8888888888888888,
              "#fdca26"
             ],
             [
              1,
              "#f0f921"
             ]
            ],
            "type": "heatmap"
           }
          ],
          "heatmapgl": [
           {
            "colorbar": {
             "outlinewidth": 0,
             "ticks": ""
            },
            "colorscale": [
             [
              0,
              "#0d0887"
             ],
             [
              0.1111111111111111,
              "#46039f"
             ],
             [
              0.2222222222222222,
              "#7201a8"
             ],
             [
              0.3333333333333333,
              "#9c179e"
             ],
             [
              0.4444444444444444,
              "#bd3786"
             ],
             [
              0.5555555555555556,
              "#d8576b"
             ],
             [
              0.6666666666666666,
              "#ed7953"
             ],
             [
              0.7777777777777778,
              "#fb9f3a"
             ],
             [
              0.8888888888888888,
              "#fdca26"
             ],
             [
              1,
              "#f0f921"
             ]
            ],
            "type": "heatmapgl"
           }
          ],
          "histogram": [
           {
            "marker": {
             "pattern": {
              "fillmode": "overlay",
              "size": 10,
              "solidity": 0.2
             }
            },
            "type": "histogram"
           }
          ],
          "histogram2d": [
           {
            "colorbar": {
             "outlinewidth": 0,
             "ticks": ""
            },
            "colorscale": [
             [
              0,
              "#0d0887"
             ],
             [
              0.1111111111111111,
              "#46039f"
             ],
             [
              0.2222222222222222,
              "#7201a8"
             ],
             [
              0.3333333333333333,
              "#9c179e"
             ],
             [
              0.4444444444444444,
              "#bd3786"
             ],
             [
              0.5555555555555556,
              "#d8576b"
             ],
             [
              0.6666666666666666,
              "#ed7953"
             ],
             [
              0.7777777777777778,
              "#fb9f3a"
             ],
             [
              0.8888888888888888,
              "#fdca26"
             ],
             [
              1,
              "#f0f921"
             ]
            ],
            "type": "histogram2d"
           }
          ],
          "histogram2dcontour": [
           {
            "colorbar": {
             "outlinewidth": 0,
             "ticks": ""
            },
            "colorscale": [
             [
              0,
              "#0d0887"
             ],
             [
              0.1111111111111111,
              "#46039f"
             ],
             [
              0.2222222222222222,
              "#7201a8"
             ],
             [
              0.3333333333333333,
              "#9c179e"
             ],
             [
              0.4444444444444444,
              "#bd3786"
             ],
             [
              0.5555555555555556,
              "#d8576b"
             ],
             [
              0.6666666666666666,
              "#ed7953"
             ],
             [
              0.7777777777777778,
              "#fb9f3a"
             ],
             [
              0.8888888888888888,
              "#fdca26"
             ],
             [
              1,
              "#f0f921"
             ]
            ],
            "type": "histogram2dcontour"
           }
          ],
          "mesh3d": [
           {
            "colorbar": {
             "outlinewidth": 0,
             "ticks": ""
            },
            "type": "mesh3d"
           }
          ],
          "parcoords": [
           {
            "line": {
             "colorbar": {
              "outlinewidth": 0,
              "ticks": ""
             }
            },
            "type": "parcoords"
           }
          ],
          "pie": [
           {
            "automargin": true,
            "type": "pie"
           }
          ],
          "scatter": [
           {
            "fillpattern": {
             "fillmode": "overlay",
             "size": 10,
             "solidity": 0.2
            },
            "type": "scatter"
           }
          ],
          "scatter3d": [
           {
            "line": {
             "colorbar": {
              "outlinewidth": 0,
              "ticks": ""
             }
            },
            "marker": {
             "colorbar": {
              "outlinewidth": 0,
              "ticks": ""
             }
            },
            "type": "scatter3d"
           }
          ],
          "scattercarpet": [
           {
            "marker": {
             "colorbar": {
              "outlinewidth": 0,
              "ticks": ""
             }
            },
            "type": "scattercarpet"
           }
          ],
          "scattergeo": [
           {
            "marker": {
             "colorbar": {
              "outlinewidth": 0,
              "ticks": ""
             }
            },
            "type": "scattergeo"
           }
          ],
          "scattergl": [
           {
            "marker": {
             "colorbar": {
              "outlinewidth": 0,
              "ticks": ""
             }
            },
            "type": "scattergl"
           }
          ],
          "scattermapbox": [
           {
            "marker": {
             "colorbar": {
              "outlinewidth": 0,
              "ticks": ""
             }
            },
            "type": "scattermapbox"
           }
          ],
          "scatterpolar": [
           {
            "marker": {
             "colorbar": {
              "outlinewidth": 0,
              "ticks": ""
             }
            },
            "type": "scatterpolar"
           }
          ],
          "scatterpolargl": [
           {
            "marker": {
             "colorbar": {
              "outlinewidth": 0,
              "ticks": ""
             }
            },
            "type": "scatterpolargl"
           }
          ],
          "scatterternary": [
           {
            "marker": {
             "colorbar": {
              "outlinewidth": 0,
              "ticks": ""
             }
            },
            "type": "scatterternary"
           }
          ],
          "surface": [
           {
            "colorbar": {
             "outlinewidth": 0,
             "ticks": ""
            },
            "colorscale": [
             [
              0,
              "#0d0887"
             ],
             [
              0.1111111111111111,
              "#46039f"
             ],
             [
              0.2222222222222222,
              "#7201a8"
             ],
             [
              0.3333333333333333,
              "#9c179e"
             ],
             [
              0.4444444444444444,
              "#bd3786"
             ],
             [
              0.5555555555555556,
              "#d8576b"
             ],
             [
              0.6666666666666666,
              "#ed7953"
             ],
             [
              0.7777777777777778,
              "#fb9f3a"
             ],
             [
              0.8888888888888888,
              "#fdca26"
             ],
             [
              1,
              "#f0f921"
             ]
            ],
            "type": "surface"
           }
          ],
          "table": [
           {
            "cells": {
             "fill": {
              "color": "#EBF0F8"
             },
             "line": {
              "color": "white"
             }
            },
            "header": {
             "fill": {
              "color": "#C8D4E3"
             },
             "line": {
              "color": "white"
             }
            },
            "type": "table"
           }
          ]
         },
         "layout": {
          "annotationdefaults": {
           "arrowcolor": "#2a3f5f",
           "arrowhead": 0,
           "arrowwidth": 1
          },
          "autotypenumbers": "strict",
          "coloraxis": {
           "colorbar": {
            "outlinewidth": 0,
            "ticks": ""
           }
          },
          "colorscale": {
           "diverging": [
            [
             0,
             "#8e0152"
            ],
            [
             0.1,
             "#c51b7d"
            ],
            [
             0.2,
             "#de77ae"
            ],
            [
             0.3,
             "#f1b6da"
            ],
            [
             0.4,
             "#fde0ef"
            ],
            [
             0.5,
             "#f7f7f7"
            ],
            [
             0.6,
             "#e6f5d0"
            ],
            [
             0.7,
             "#b8e186"
            ],
            [
             0.8,
             "#7fbc41"
            ],
            [
             0.9,
             "#4d9221"
            ],
            [
             1,
             "#276419"
            ]
           ],
           "sequential": [
            [
             0,
             "#0d0887"
            ],
            [
             0.1111111111111111,
             "#46039f"
            ],
            [
             0.2222222222222222,
             "#7201a8"
            ],
            [
             0.3333333333333333,
             "#9c179e"
            ],
            [
             0.4444444444444444,
             "#bd3786"
            ],
            [
             0.5555555555555556,
             "#d8576b"
            ],
            [
             0.6666666666666666,
             "#ed7953"
            ],
            [
             0.7777777777777778,
             "#fb9f3a"
            ],
            [
             0.8888888888888888,
             "#fdca26"
            ],
            [
             1,
             "#f0f921"
            ]
           ],
           "sequentialminus": [
            [
             0,
             "#0d0887"
            ],
            [
             0.1111111111111111,
             "#46039f"
            ],
            [
             0.2222222222222222,
             "#7201a8"
            ],
            [
             0.3333333333333333,
             "#9c179e"
            ],
            [
             0.4444444444444444,
             "#bd3786"
            ],
            [
             0.5555555555555556,
             "#d8576b"
            ],
            [
             0.6666666666666666,
             "#ed7953"
            ],
            [
             0.7777777777777778,
             "#fb9f3a"
            ],
            [
             0.8888888888888888,
             "#fdca26"
            ],
            [
             1,
             "#f0f921"
            ]
           ]
          },
          "colorway": [
           "#636efa",
           "#EF553B",
           "#00cc96",
           "#ab63fa",
           "#FFA15A",
           "#19d3f3",
           "#FF6692",
           "#B6E880",
           "#FF97FF",
           "#FECB52"
          ],
          "font": {
           "color": "#2a3f5f"
          },
          "geo": {
           "bgcolor": "white",
           "lakecolor": "white",
           "landcolor": "#E5ECF6",
           "showlakes": true,
           "showland": true,
           "subunitcolor": "white"
          },
          "hoverlabel": {
           "align": "left"
          },
          "hovermode": "closest",
          "mapbox": {
           "style": "light"
          },
          "paper_bgcolor": "white",
          "plot_bgcolor": "#E5ECF6",
          "polar": {
           "angularaxis": {
            "gridcolor": "white",
            "linecolor": "white",
            "ticks": ""
           },
           "bgcolor": "#E5ECF6",
           "radialaxis": {
            "gridcolor": "white",
            "linecolor": "white",
            "ticks": ""
           }
          },
          "scene": {
           "xaxis": {
            "backgroundcolor": "#E5ECF6",
            "gridcolor": "white",
            "gridwidth": 2,
            "linecolor": "white",
            "showbackground": true,
            "ticks": "",
            "zerolinecolor": "white"
           },
           "yaxis": {
            "backgroundcolor": "#E5ECF6",
            "gridcolor": "white",
            "gridwidth": 2,
            "linecolor": "white",
            "showbackground": true,
            "ticks": "",
            "zerolinecolor": "white"
           },
           "zaxis": {
            "backgroundcolor": "#E5ECF6",
            "gridcolor": "white",
            "gridwidth": 2,
            "linecolor": "white",
            "showbackground": true,
            "ticks": "",
            "zerolinecolor": "white"
           }
          },
          "shapedefaults": {
           "line": {
            "color": "#2a3f5f"
           }
          },
          "ternary": {
           "aaxis": {
            "gridcolor": "white",
            "linecolor": "white",
            "ticks": ""
           },
           "baxis": {
            "gridcolor": "white",
            "linecolor": "white",
            "ticks": ""
           },
           "bgcolor": "#E5ECF6",
           "caxis": {
            "gridcolor": "white",
            "linecolor": "white",
            "ticks": ""
           }
          },
          "title": {
           "x": 0.05
          },
          "xaxis": {
           "automargin": true,
           "gridcolor": "white",
           "linecolor": "white",
           "ticks": "",
           "title": {
            "standoff": 15
           },
           "zerolinecolor": "white",
           "zerolinewidth": 2
          },
          "yaxis": {
           "automargin": true,
           "gridcolor": "white",
           "linecolor": "white",
           "ticks": "",
           "title": {
            "standoff": 15
           },
           "zerolinecolor": "white",
           "zerolinewidth": 2
          }
         }
        },
        "title": {
         "text": "<br>Interactive Force-Directed Graph",
         "x": 0.5
        },
        "xaxis": {
         "showgrid": false,
         "showticklabels": false,
         "zeroline": false
        },
        "yaxis": {
         "showgrid": false,
         "showticklabels": false,
         "zeroline": false
        }
       }
      }
     },
     "metadata": {},
     "output_type": "display_data"
    }
   ],
   "source": [
    "# We'll continue using subG for demonstration. For a full network, replace subG with G.\n",
    "edges_x = []\n",
    "edges_y = []\n",
    "pos = nx.spring_layout(subG, k=0.35, seed=42)\n",
    "\n",
    "for edge in subG.edges():\n",
    "    x0, y0 = pos[edge[0]]\n",
    "    x1, y1 = pos[edge[1]]\n",
    "    edges_x.append(x0)\n",
    "    edges_x.append(x1)\n",
    "    edges_x.append(None)\n",
    "    edges_y.append(y0)\n",
    "    edges_y.append(y1)\n",
    "    edges_y.append(None)\n",
    "\n",
    "# Create edge traces\n",
    "edge_trace = go.Scatter(\n",
    "    x=edges_x, y=edges_y,\n",
    "    line=dict(width=1, color='#888'),\n",
    "    hoverinfo='none',\n",
    "    mode='lines')\n",
    "\n",
    "# Create node traces\n",
    "nodes_x = []\n",
    "nodes_y = []\n",
    "labels = []\n",
    "for node in subG.nodes():\n",
    "    x, y = pos[node]\n",
    "    nodes_x.append(x)\n",
    "    nodes_y.append(y)\n",
    "    labels.append(node)\n",
    "\n",
    "node_trace = go.Scatter(\n",
    "    x=nodes_x, y=nodes_y,\n",
    "    mode='markers+text',\n",
    "    text=labels,\n",
    "    textposition='top center',\n",
    "    marker=dict(\n",
    "        showscale=False,\n",
    "        color='lightblue',\n",
    "        size=15,\n",
    "        line_width=2\n",
    "    ),\n",
    "    hoverinfo='text'\n",
    ")\n",
    "\n",
    "# Combine edge_trace and node_trace in a Plotly Figure\n",
    "fig = go.Figure(data=[edge_trace, node_trace],\n",
    "               layout=go.Layout(\n",
    "                   title='<br>Interactive Force-Directed Graph',\n",
    "                   title_x=0.5,\n",
    "                   showlegend=False,\n",
    "                   hovermode='closest',\n",
    "                   margin=dict(b=20,l=5,r=5,t=40),\n",
    "                   xaxis=dict(showgrid=False, zeroline=False, showticklabels=False),\n",
    "                   yaxis=dict(showgrid=False, zeroline=False, showticklabels=False)\n",
    "               ))\n",
    "\n",
    "fig.show()"
   ]
  },
  {
   "cell_type": "markdown",
   "metadata": {},
   "source": [
    "## Conclusion\n",
    "You now have a notebook that:\n",
    "1. Loads your cleaned SIPRI data.\n",
    "2. Builds a directed graph in NetworkX.\n",
    "3. Performs basic network analysis.\n",
    "4. Visualizes the subgraph of top nodes with both NetworkX’s simple layout and Plotly’s interactive force-directed layout.\n",
    "\n",
    "Feel free to adjust column names, add filters (e.g., by year), or refine the weighting logic to suit your analysis goals."
   ]
  }
 ],
 "metadata": {
  "kernelspec": {
   "display_name": "base",
   "language": "python",
   "name": "python3"
  },
  "language_info": {
   "codemirror_mode": {
    "name": "ipython",
    "version": 3
   },
   "file_extension": ".py",
   "mimetype": "text/x-python",
   "name": "python",
   "nbconvert_exporter": "python",
   "pygments_lexer": "ipython3",
   "version": "3.12.7"
  }
 },
 "nbformat": 4,
 "nbformat_minor": 2
}
