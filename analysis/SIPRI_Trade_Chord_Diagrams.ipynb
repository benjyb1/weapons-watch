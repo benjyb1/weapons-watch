{
 "cells": [
  {
   "cell_type": "markdown",
   "metadata": {},
   "source": [
    "# Exploring Chord Diagrams for Arms Trade Visualization\n",
    "\n",
    "This notebook explores how to create and customize chord diagrams using D3.js for visualizing arms trade data. We'll cover:\n",
    "1. Basic chord diagram structure\n",
    "2. Data preparation\n",
    "3. Creating the visualization\n",
    "4. Adding interactivity\n",
    "5. Styling and customization"
   ]
  },
  {
   "cell_type": "markdown",
   "metadata": {},
   "source": [
    "## 1. Required Libraries\n",
    "\n",
    "First, let's import the necessary libraries for data manipulation and analysis."
   ]
  },
  {
   "cell_type": "code",
   "execution_count": 1,
   "metadata": {},
   "outputs": [],
   "source": [
    "import pandas as pd\n",
    "import numpy as np\n",
    "import json\n",
    "\n",
    "# For data visualization in the notebook\n",
    "import matplotlib.pyplot as plt\n",
    "import seaborn as sns"
   ]
  },
  {
   "cell_type": "markdown",
   "metadata": {},
   "source": [
    "## 2. Sample Data Structure\n",
    "\n",
    "Let's create a sample dataset that represents arms trade between countries. We'll use the SIPRI TIV (Trend Indicator Value) as our measure."
   ]
  },
  {
   "cell_type": "code",
   "execution_count": 2,
   "metadata": {},
   "outputs": [
    {
     "name": "stdout",
     "output_type": "stream",
     "text": [
      "Sample DataFrame:\n",
      "   supplier recipient     value\n",
      "0       USA   GERMANY    165.80\n",
      "1       USA     OTHER  15012.78\n",
      "2    RUSSIA     CHINA    130.50\n",
      "3    RUSSIA     OTHER   1545.33\n",
      "4        UK       USA     35.80\n",
      "5        UK     OTHER    509.12\n",
      "6   GERMANY     OTHER    522.20\n",
      "7     CHINA     OTHER   2544.64\n",
      "8     OTHER       USA    589.04\n",
      "9     OTHER   GERMANY     62.75\n",
      "10    OTHER     OTHER   9300.13\n"
     ]
    }
   ],
   "source": [
    "# Load actual arms trade data from JSON file\n",
    "with open('../data/arms_trade_matrices/arms_trade_matrix_2021.json', 'r') as f:\n",
    "    matrix_data = json.load(f)\n",
    "\n",
    "# Convert matrix data to sample_data format\n",
    "sample_data = {\n",
    "    \"year\": 2021,\n",
    "    \"trades\": []\n",
    "}\n",
    "\n",
    "# Convert matrix to trades list\n",
    "countries = matrix_data['countries']\n",
    "matrix = matrix_data['matrix']\n",
    "for i, supplier in enumerate(countries):\n",
    "    for j, recipient in enumerate(countries):\n",
    "        if matrix[i][j] > 0:\n",
    "            sample_data['trades'].append({\n",
    "                \"supplier\": supplier,\n",
    "                \"recipient\": recipient, \n",
    "                \"value\": matrix[i][j]\n",
    "            })\n",
    "\n",
    "# Convert to DataFrame for easier manipulation\n",
    "df = pd.DataFrame(sample_data['trades'])\n",
    "print(\"Sample DataFrame:\")\n",
    "print(df)"
   ]
  },
  {
   "cell_type": "markdown",
   "metadata": {},
   "source": [
    "## 3. Data Preparation for Chord Diagram\n",
    "\n",
    "To create a chord diagram, we need to transform our data into a matrix format where:\n",
    "- Rows represent suppliers\n",
    "- Columns represent recipients\n",
    "- Values represent trade volumes"
   ]
  },
  {
   "cell_type": "code",
   "execution_count": 3,
   "metadata": {},
   "outputs": [
    {
     "name": "stdout",
     "output_type": "stream",
     "text": [
      "Countries: ['CHINA', 'GERMANY', 'OTHER', 'RUSSIA', 'UK', 'USA']\n",
      "\n",
      "Trade Matrix:\n",
      "[[    0.       0.    2544.64     0.       0.       0.  ]\n",
      " [    0.       0.     522.2      0.       0.       0.  ]\n",
      " [    0.      62.75  9300.13     0.       0.     589.04]\n",
      " [  130.5      0.    1545.33     0.       0.       0.  ]\n",
      " [    0.       0.     509.12     0.       0.      35.8 ]\n",
      " [    0.     165.8  15012.78     0.       0.       0.  ]]\n"
     ]
    }
   ],
   "source": [
    "def prepare_chord_matrix(df):\n",
    "    # Get unique countries (both suppliers and recipients)\n",
    "    countries = sorted(list(set(df['supplier'].unique()) | set(df['recipient'].unique())))\n",
    "    \n",
    "    # Create empty matrix\n",
    "    n = len(countries)\n",
    "    matrix = np.zeros((n, n))\n",
    "    \n",
    "    # Fill matrix with trade values\n",
    "    for _, row in df.iterrows():\n",
    "        i = countries.index(row['supplier'])\n",
    "        j = countries.index(row['recipient'])\n",
    "        matrix[i][j] = row['value']\n",
    "    \n",
    "    return countries, matrix\n",
    "\n",
    "countries, matrix = prepare_chord_matrix(df)\n",
    "print(\"Countries:\", countries)\n",
    "print(\"\\nTrade Matrix:\")\n",
    "print(matrix)"
   ]
  },
  {
   "cell_type": "markdown",
   "metadata": {},
   "source": [
    "## 4. Preparing D3.js Compatible Format\n",
    "\n",
    "Now we'll create the JSON structure that our D3.js chord diagram will use."
   ]
  },
  {
   "cell_type": "code",
   "execution_count": 4,
   "metadata": {},
   "outputs": [
    {
     "name": "stdout",
     "output_type": "stream",
     "text": [
      "{\n",
      "  \"countries\": [\n",
      "    \"CHINA\",\n",
      "    \"GERMANY\",\n",
      "    \"OTHER\",\n",
      "    \"RUSSIA\",\n",
      "    \"UK\",\n",
      "    \"USA\"\n",
      "  ],\n",
      "  \"matrix\": [\n",
      "    [\n",
      "      0.0,\n",
      "      0.0,\n",
      "      2544.64,\n",
      "      0.0,\n",
      "      0.0,\n",
      "      0.0\n",
      "    ],\n",
      "    [\n",
      "      0.0,\n",
      "      0.0,\n",
      "      522.2,\n",
      "      0.0,\n",
      "      0.0,\n",
      "      0.0\n",
      "    ],\n",
      "    [\n",
      "      0.0,\n",
      "      62.75,\n",
      "      9300.130000000001,\n",
      "      0.0,\n",
      "      0.0,\n",
      "      589.04\n",
      "    ],\n",
      "    [\n",
      "      130.5,\n",
      "      0.0,\n",
      "      1545.33,\n",
      "      0.0,\n",
      "      0.0,\n",
      "      0.0\n",
      "    ],\n",
      "    [\n",
      "      0.0,\n",
      "      0.0,\n",
      "      509.12,\n",
      "      0.0,\n",
      "      0.0,\n",
      "      35.8\n",
      "    ],\n",
      "    [\n",
      "      0.0,\n",
      "      165.8,\n",
      "      15012.78,\n",
      "      0.0,\n",
      "      0.0,\n",
      "      0.0\n",
      "    ]\n",
      "  ]\n",
      "}\n"
     ]
    }
   ],
   "source": [
    "def create_d3_json(countries, matrix):\n",
    "    return {\n",
    "        \"countries\": countries,\n",
    "        \"matrix\": matrix.tolist()\n",
    "    }\n",
    "\n",
    "d3_data = create_d3_json(countries, matrix)\n",
    "print(json.dumps(d3_data, indent=2))"
   ]
  },
  {
   "cell_type": "markdown",
   "metadata": {},
   "source": [
    "## 5. D3.js Chord Diagram Implementation\n",
    "\n",
    "Below is the D3.js code that would create the chord diagram. This code would go in your React component."
   ]
  },
  {
   "cell_type": "code",
   "execution_count": 5,
   "metadata": {},
   "outputs": [
    {
     "name": "stdout",
     "output_type": "stream",
     "text": [
      "D3.js implementation reference:\n",
      "\n",
      "// Create chord layout\n",
      "const chord = d3.chord()\n",
      "    .padAngle(0.05)\n",
      "    .sortSubgroups(d3.descending);\n",
      "\n",
      "// Create arc generator\n",
      "const arc = d3.arc()\n",
      "    .innerRadius(radius)\n",
      "    .outerRadius(radius + 20);\n",
      "\n",
      "// Create ribbon generator\n",
      "const ribbon = d3.ribbon()\n",
      "    .radius(radius);\n",
      "\n",
      "// Create color scale\n",
      "const color = d3.scaleOrdinal(d3.schemeCategory10);\n",
      "\n"
     ]
    }
   ],
   "source": [
    "# This is JavaScript code for reference\n",
    "d3_code = \"\"\"\n",
    "// Create chord layout\n",
    "const chord = d3.chord()\n",
    "    .padAngle(0.05)\n",
    "    .sortSubgroups(d3.descending);\n",
    "\n",
    "// Create arc generator\n",
    "const arc = d3.arc()\n",
    "    .innerRadius(radius)\n",
    "    .outerRadius(radius + 20);\n",
    "\n",
    "// Create ribbon generator\n",
    "const ribbon = d3.ribbon()\n",
    "    .radius(radius);\n",
    "\n",
    "// Create color scale\n",
    "const color = d3.scaleOrdinal(d3.schemeCategory10);\n",
    "\"\"\"\n",
    "\n",
    "print(\"D3.js implementation reference:\")\n",
    "print(d3_code)"
   ]
  },
  {
   "cell_type": "markdown",
   "metadata": {},
   "source": [
    "## 6. Data Analysis Functions\n",
    "\n",
    "Let's create some helper functions to analyze the arms trade data."
   ]
  },
  {
   "cell_type": "code",
   "execution_count": null,
   "metadata": {},
   "outputs": [],
   "source": [
    "def analyze_trade_flows(df):\n",
    "    # Total trade volume by supplier\n",
    "    supplier_totals = df.groupby('supplier')['value'].sum().sort_values(ascending=False)\n",
    "    \n",
    "    # Total trade volume by recipient\n",
    "    recipient_totals = df.groupby('recipient')['value'].sum().sort_values(ascending=False)\n",
    "    \n",
    "    print(\"Top Suppliers:\")\n",
    "    print(supplier_totals)\n",
    "    print(\"\\nTop Recipients:\")\n",
    "    print(recipient_totals)\n",
    "    \n",
    "    return supplier_totals, recipient_totals\n",
    "\n",
    "supplier_totals, recipient_totals = analyze_trade_flows(df)"
   ]
  },
  {
   "cell_type": "markdown",
   "metadata": {},
   "source": [
    "## 7. Visualization Customization\n",
    "\n",
    "Here are some examples of how to customize the chord diagram appearance."
   ]
  },
  {
   "cell_type": "code",
   "execution_count": null,
   "metadata": {},
   "outputs": [],
   "source": [
    "# Example color schemes and styling options\n",
    "visualization_options = {\n",
    "    \"color_schemes\": [\n",
    "        \"d3.schemeCategory10\",\n",
    "        \"d3.schemeSet3\",\n",
    "        \"d3.schemePaired\"\n",
    "    ],\n",
    "    \"styling\": {\n",
    "        \"padAngle\": 0.05,\n",
    "        \"innerRadius\": 200,\n",
    "        \"outerRadius\": 220,\n",
    "        \"labelOffset\": 10,\n",
    "        \"ribbonOpacity\": 0.6\n",
    "    }\n",
    "}\n",
    "\n",
    "print(json.dumps(visualization_options, indent=2))"
   ]
  },
  {
   "cell_type": "markdown",
   "metadata": {},
   "source": [
    "## 8. Interactive Features\n",
    "\n",
    "Description of interactive features we can add to the chord diagram."
   ]
  },
  {
   "cell_type": "code",
   "execution_count": null,
   "metadata": {},
   "outputs": [],
   "source": [
    "interactive_features = {\n",
    "    \"hover_effects\": [\n",
    "        \"Highlight related ribbons\",\n",
    "        \"Show tooltip with trade details\",\n",
    "        \"Fade unrelated connections\"\n",
    "    ],\n",
    "    \"click_actions\": [\n",
    "        \"Isolate country's connections\",\n",
    "        \"Show detailed trade information\",\n",
    "        \"Toggle ribbon visibility\"\n",
    "    ],\n",
    "    \"animations\": [\n",
    "        \"Smooth transitions on data updates\",\n",
    "        \"Ribbon hover animations\",\n",
    "        \"Year transition effects\"\n",
    "    ]\n",
    "}\n",
    "\n",
    "print(json.dumps(interactive_features, indent=2))"
   ]
  },
  {
   "cell_type": "markdown",
   "metadata": {},
   "source": [
    "## 9. Best Practices and Recommendations\n",
    "\n",
    "1. Data Preparation:\n",
    "   - Always validate and clean the data\n",
    "   - Handle missing values appropriately\n",
    "   - Normalize trade values if necessary\n",
    "\n",
    "2. Visualization:\n",
    "   - Use appropriate color schemes\n",
    "   - Ensure readable labels\n",
    "   - Add clear legends and tooltips\n",
    "\n",
    "3. Performance:\n",
    "   - Optimize data structure\n",
    "   - Use appropriate D3.js methods\n",
    "   - Handle large datasets efficiently"
   ]
  },
  {
   "cell_type": "markdown",
   "metadata": {},
   "source": [
    "## 10. Testing Data Transformation\n",
    "\n",
    "Let's create a function to test our data transformation pipeline."
   ]
  },
  {
   "cell_type": "code",
   "execution_count": null,
   "metadata": {},
   "outputs": [],
   "source": [
    "def test_data_pipeline(sample_data):\n",
    "    # Convert raw data to DataFrame\n",
    "    df = pd.DataFrame(sample_data['trades'])\n",
    "    \n",
    "    # Create matrix\n",
    "    countries, matrix = prepare_chord_matrix(df)\n",
    "    \n",
    "    # Create D3 format\n",
    "    d3_data = create_d3_json(countries, matrix)\n",
    "    \n",
    "    # Validate results\n",
    "    print(\"Validation Results:\")\n",
    "    print(f\"Number of countries: {len(countries)}\")\n",
    "    print(f\"Matrix shape: {matrix.shape}\")\n",
    "    print(f\"Total trade volume: {matrix.sum()}\")\n",
    "    \n",
    "    return d3_data\n",
    "\n",
    "test_results = test_data_pipeline(sample_data)"
   ]
  }
 ],
 "metadata": {
  "kernelspec": {
   "display_name": "arms-trade",
   "language": "python",
   "name": "python3"
  },
  "language_info": {
   "codemirror_mode": {
    "name": "ipython",
    "version": 3
   },
   "file_extension": ".py",
   "mimetype": "text/x-python",
   "name": "python",
   "nbconvert_exporter": "python",
   "pygments_lexer": "ipython3",
   "version": "3.11.11"
  }
 },
 "nbformat": 4,
 "nbformat_minor": 4
}
